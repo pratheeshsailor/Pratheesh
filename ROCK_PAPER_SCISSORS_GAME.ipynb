{
  "cells": [
    {
      "cell_type": "markdown",
      "metadata": {
        "id": "view-in-github",
        "colab_type": "text"
      },
      "source": [
        "<a href=\"https://colab.research.google.com/github/pratheeshsailor/Pratheesh/blob/main/ROCK_PAPER_SCISSORS_GAME.ipynb\" target=\"_parent\"><img src=\"https://colab.research.google.com/assets/colab-badge.svg\" alt=\"Open In Colab\"/></a>"
      ]
    },
    {
      "cell_type": "code",
      "execution_count": null,
      "metadata": {
        "id": "YJHZ01U_xeBo"
      },
      "outputs": [],
      "source": [
        "import random\n",
        "\n",
        "\n",
        "def play():\n",
        "    user = input(\"Enter 'r' for rock, 's' for siccor,  'p' for paper :\")\n",
        "    computer = random.choice(['r', 's', 'p'])\n",
        "    if user == computer:\n",
        "        return \"tie\"\n",
        "    if is_win(computer, user):\n",
        "        return 'You lose!'\n",
        "\n",
        "    return 'You won!'\n",
        "\n",
        "\n",
        "def is_win(player, opponent):\n",
        "    if(player == 'r' and opponent == 'p') or (player == 'p' and opponent == 's') or (player == 'r' and opponent == 'p'):\n",
        "        return True\n",
        "\n",
        "\n",
        "print(play())"
      ]
    }
  ],
  "metadata": {
    "colab": {
      "provenance": [],
      "authorship_tag": "ABX9TyNc4RRLLhLN+jXYkOj6cEdc",
      "include_colab_link": true
    },
    "kernelspec": {
      "display_name": "Python 3",
      "name": "python3"
    },
    "language_info": {
      "name": "python"
    }
  },
  "nbformat": 4,
  "nbformat_minor": 0
}